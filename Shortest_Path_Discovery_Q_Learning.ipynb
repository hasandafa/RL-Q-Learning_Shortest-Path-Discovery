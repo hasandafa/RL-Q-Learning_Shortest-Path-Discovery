{
  "nbformat": 4,
  "nbformat_minor": 0,
  "metadata": {
    "colab": {
      "provenance": [],
      "gpuType": "T4"
    },
    "kernelspec": {
      "name": "python3",
      "display_name": "Python 3"
    },
    "language_info": {
      "name": "python"
    },
    "accelerator": "GPU",
    "gpuClass": "standard"
  },
  "cells": [
    {
      "cell_type": "markdown",
      "source": [
        "# Shortest Path Discovery using Q Learning"
      ],
      "metadata": {
        "id": "LScW5lhlwGJL"
      }
    },
    {
      "cell_type": "markdown",
      "source": [
        "Import libraries"
      ],
      "metadata": {
        "id": "C4gKaceAwNdC"
      }
    },
    {
      "cell_type": "code",
      "source": [
        "import numpy as np"
      ],
      "metadata": {
        "id": "i7KTdvUF8Lw2"
      },
      "execution_count": 1,
      "outputs": []
    },
    {
      "cell_type": "code",
      "source": [
        "# Mendefinisikan bentuk environment (yaitu, states-nya)\n",
        "environment_rows = 11\n",
        "environment_columns = 11\n",
        "\n",
        "# Buat array numpy 3D untuk menyimpan nilai Q saat ini untuk setiap pasangan state dan action: Q(s, a)\n",
        "# Array berisi 11 baris dan 11 kolom (untuk menyesuaikan dengan bentuk environment), serta third \"action\" dimension.\n",
        "# Action dimension terdiri dari 4 lapisan yang memungkinkan kita untuk melacak nilai Q untuk setiap aksi yang mungkin terjadi.\n",
        "# Setiap state (lihat sel berikutnya untuk deskripsi tindakan yang mungkin dilakukan).\n",
        "# Nilai dari setiap pasangan (state, action) diinisialisasi ke 0.\n",
        "q_values = np.zeros((environment_rows, environment_columns, 4))"
      ],
      "metadata": {
        "id": "Xspc9-HZ8RVF"
      },
      "execution_count": 2,
      "outputs": []
    },
    {
      "cell_type": "code",
      "source": [
        "# Mendefinisikan actions\n",
        "# Kode numerik action: 0 = up, 1 = right, 2 = down, 3 = left\n",
        "actions = ['up', 'right', 'down', 'left']"
      ],
      "metadata": {
        "id": "rhOkGxSp8Sjd"
      },
      "execution_count": 3,
      "outputs": []
    },
    {
      "cell_type": "code",
      "source": [
        "# Buat array numpy 2D untuk menyimpan reward untuk setiap state.\n",
        "# Array berisi 11 baris dan 11 kolom (agar sesuai dengan bentuk environment),\n",
        "# Dan setiap nilai diinisialisasi ke -100.\n",
        "rewards = np.full((environment_rows, environment_columns), -100.)\n",
        "rewards[0, 5] = 100. #set the reward for the packaging area (i.e., the goal) to 100\n",
        "\n",
        "# Mendefinisikan lokasi lorong untuk baris 1 sampai 9\n",
        "aisles = {}\n",
        "aisles[1] = [i for i in range(1, 10)]\n",
        "aisles[2] = [1, 7, 9]\n",
        "aisles[3] = [i for i in range(1, 8)]\n",
        "aisles[3].append(9)\n",
        "aisles[4] = [3, 7]\n",
        "aisles[5] = [i for i in range(11)]\n",
        "aisles[6] = [5]\n",
        "aisles[7] = [i for i in range(1, 10)]\n",
        "aisles[8] = [3, 7]\n",
        "aisles[9] = [i for i in range(11)]\n",
        "\n",
        "# Set reward tiap lorong\n",
        "for row_index in range(1, 10):\n",
        "  for column_index in aisles[row_index]:\n",
        "    rewards[row_index, column_index] = -1.\n",
        "\n",
        "# print rewards matrix\n",
        "for row in rewards:\n",
        "  print(row)"
      ],
      "metadata": {
        "colab": {
          "base_uri": "https://localhost:8080/"
        },
        "id": "rbH7rugC8YQn",
        "outputId": "2768d8ba-a529-4152-8254-24645a96477d"
      },
      "execution_count": 4,
      "outputs": [
        {
          "output_type": "stream",
          "name": "stdout",
          "text": [
            "[-100. -100. -100. -100. -100.  100. -100. -100. -100. -100. -100.]\n",
            "[-100.   -1.   -1.   -1.   -1.   -1.   -1.   -1.   -1.   -1. -100.]\n",
            "[-100.   -1. -100. -100. -100. -100. -100.   -1. -100.   -1. -100.]\n",
            "[-100.   -1.   -1.   -1.   -1.   -1.   -1.   -1. -100.   -1. -100.]\n",
            "[-100. -100. -100.   -1. -100. -100. -100.   -1. -100. -100. -100.]\n",
            "[-1. -1. -1. -1. -1. -1. -1. -1. -1. -1. -1.]\n",
            "[-100. -100. -100. -100. -100.   -1. -100. -100. -100. -100. -100.]\n",
            "[-100.   -1.   -1.   -1.   -1.   -1.   -1.   -1.   -1.   -1. -100.]\n",
            "[-100. -100. -100.   -1. -100. -100. -100.   -1. -100. -100. -100.]\n",
            "[-1. -1. -1. -1. -1. -1. -1. -1. -1. -1. -1.]\n",
            "[-100. -100. -100. -100. -100. -100. -100. -100. -100. -100. -100.]\n"
          ]
        }
      ]
    },
    {
      "cell_type": "code",
      "source": [
        "# Mendefinisikan fungsi yang menentukan apakah lokasi yang ditentukan adalah status terminal\n",
        "def is_terminal_state(current_row_index, current_column_index):\n",
        "  # jika reward untuk lokasi ini adalah -1, maka lokasi ini bukan merupakan terminal state\n",
        "  if rewards[current_row_index, current_column_index] == -1.:\n",
        "    return False\n",
        "  else:\n",
        "    return True\n",
        "\n",
        "# Mendefinisikan fungsi yang akan memilih lokasi awal yang acak dan bukan terminal\n",
        "def get_starting_location():\n",
        "  # Menetapkan indeks baris dan kolom secara acak\n",
        "  current_row_index = np.random.randint(environment_rows)\n",
        "  current_column_index = np.random.randint(environment_columns)\n",
        "  # Lanjutkan memilih indeks baris dan kolom secara acak hingga keadaan non-terminal teridentifikasi\n",
        "  while is_terminal_state(current_row_index, current_column_index):\n",
        "    current_row_index = np.random.randint(environment_rows)\n",
        "    current_column_index = np.random.randint(environment_columns)\n",
        "  return current_row_index, current_column_index\n",
        "\n",
        "# Mendefinisikan algoritme epsilon greedy yang akan memilih tindakan mana yang akan diambil selanjutnya (yaitu, ke mana harus bergerak selanjutnya)\n",
        "def get_next_action(current_row_index, current_column_index, epsilon):\n",
        "  # Jika nilai yang dipilih secara acak antara 0 dan 1 kurang dari epsilon,\n",
        "  # Maka pilihlah nilai yang paling layak dari tabel Q untuk keadaan ini.\n",
        "  if np.random.random() < epsilon:\n",
        "    return np.argmax(q_values[current_row_index, current_column_index])\n",
        "  else: # Memilih random action\n",
        "    return np.random.randint(4)\n",
        "\n",
        "# Mendefinisikan fungsi yang akan mendapatkan lokasi berikutnya berdasarkan action yang dipilih\n",
        "def get_next_location(current_row_index, current_column_index, action_index):\n",
        "  new_row_index = current_row_index\n",
        "  new_column_index = current_column_index\n",
        "  if actions[action_index] == 'up' and current_row_index > 0:\n",
        "    new_row_index -= 1\n",
        "  elif actions[action_index] == 'right' and current_column_index < environment_columns - 1:\n",
        "    new_column_index += 1\n",
        "  elif actions[action_index] == 'down' and current_row_index < environment_rows - 1:\n",
        "    new_row_index += 1\n",
        "  elif actions[action_index] == 'left' and current_column_index > 0:\n",
        "    new_column_index -= 1\n",
        "  return new_row_index, new_column_index\n",
        "\n",
        "# Tentukan fungsi yang akan mendapatkan jalur terpendek antara lokasi mana pun di dalam gudang yang yang boleh dilalui robot dan lokasi pengemasan barang.\n",
        "def get_shortest_path(start_row_index, start_column_index):\n",
        "  # Segera kembali jika lokasi awal tidak valid\n",
        "  if is_terminal_state(start_row_index, start_column_index):\n",
        "    return []\n",
        "  else: # Jika lokasi ini merupakan lokasi awal yang 'legal'\n",
        "    current_row_index, current_column_index = start_row_index, start_column_index\n",
        "    shortest_path = []\n",
        "    shortest_path.append([current_row_index, current_column_index])\n",
        "    # Terus bergerak di sepanjang jalan sampai kita mencapai tujuan (yaitu, lokasi pengemasan barang)\n",
        "    while not is_terminal_state(current_row_index, current_column_index):\n",
        "      # Mendapatkan action terbaik untuk diambil\n",
        "      action_index = get_next_action(current_row_index, current_column_index, 1.)\n",
        "      # Pindah ke lokasi berikutnya di jalur, dan tambahkan lokasi baru ke daftar\n",
        "      current_row_index, current_column_index = get_next_location(current_row_index, current_column_index, action_index)\n",
        "      shortest_path.append([current_row_index, current_column_index])\n",
        "    return shortest_path"
      ],
      "metadata": {
        "id": "-DRH9Fvj8aFa"
      },
      "execution_count": 5,
      "outputs": []
    },
    {
      "cell_type": "code",
      "source": [
        "# Mendifinisikan parameter training\n",
        "epsilon = 0.9 # Persentase waktu ketika kita harus mengambil tindakan terbaik (bukan tindakan acak)\n",
        "discount_factor = 0.9 # Faktor diskon untuk hadiah di masa mendatang\n",
        "learning_rate = 0.9 # Tingkat di mana agen AI harus belajar\n",
        "\n",
        "# Jalankan melalui 1000 episode pelatihan\n",
        "for episode in range(1000):\n",
        "  # Dapatkan lokasi awal untuk episode ini\n",
        "  row_index, column_index = get_starting_location()\n",
        "\n",
        "  # Lanjutkan pengambilan action (yaitu, bergerak) sampai kita mencapai keadaan terminal\n",
        "  # (yaitu, hingga kita mencapai area pengemasan barang atau menabrak lokasi penyimpanan barang)\n",
        "  while not is_terminal_state(row_index, column_index):\n",
        "    # Memilih action yang akan diambil (misalnya, ke mana harus bergerak selanjutnya)\n",
        "    action_index = get_next_action(row_index, column_index, epsilon)\n",
        "\n",
        "    # Melakukan action yang dipilih, dan beralih ke state berikutnya (misalnya, berpindah ke lokasi berikutnya)\n",
        "    old_row_index, old_column_index = row_index, column_index # Menyimpan indeks baris dan kolom yang lama\n",
        "    row_index, column_index = get_next_location(row_index, column_index, action_index)\n",
        "\n",
        "    # Menerima reward karena telah berpindah ke state yang baru, dan menghitung temporal difference\n",
        "    reward = rewards[row_index, column_index]\n",
        "    old_q_value = q_values[old_row_index, old_column_index, action_index]\n",
        "    temporal_difference = reward + (discount_factor * np.max(q_values[row_index, column_index])) - old_q_value\n",
        "\n",
        "    # Perbarui nilai Q untuk pasangan state dan action sebelumnya\n",
        "    new_q_value = old_q_value + (learning_rate * temporal_difference)\n",
        "    q_values[old_row_index, old_column_index, action_index] = new_q_value\n",
        "\n",
        "print('Training complete!')"
      ],
      "metadata": {
        "colab": {
          "base_uri": "https://localhost:8080/"
        },
        "id": "j9jn-0Rz8im8",
        "outputId": "9a992dfd-3eae-4e0e-e101-a108ab988eb7"
      },
      "execution_count": 6,
      "outputs": [
        {
          "output_type": "stream",
          "name": "stdout",
          "text": [
            "Training complete!\n"
          ]
        }
      ]
    },
    {
      "cell_type": "code",
      "source": [
        "# Menampilkan beberapa jalur terpendek\n",
        "print(get_shortest_path(3, 9)) # Dimulai pada baris 3, kolom 9\n",
        "print(get_shortest_path(5, 0)) # Dimulai pada baris 5, kolom 0\n",
        "print(get_shortest_path(9, 5)) # Dimulai pada baris 9, kolom 5"
      ],
      "metadata": {
        "colab": {
          "base_uri": "https://localhost:8080/"
        },
        "id": "yFsr87c88lvl",
        "outputId": "3d9b0232-68ec-47dd-8d2f-ce4a26bac20a"
      },
      "execution_count": 7,
      "outputs": [
        {
          "output_type": "stream",
          "name": "stdout",
          "text": [
            "[[3, 9], [2, 9], [1, 9], [1, 8], [1, 7], [1, 6], [1, 5], [0, 5]]\n",
            "[[5, 0], [5, 1], [5, 2], [5, 3], [4, 3], [3, 3], [3, 4], [3, 5], [3, 6], [3, 7], [2, 7], [1, 7], [1, 6], [1, 5], [0, 5]]\n",
            "[[9, 5], [9, 6], [9, 7], [8, 7], [7, 7], [7, 6], [7, 5], [6, 5], [5, 5], [5, 6], [5, 7], [4, 7], [3, 7], [2, 7], [1, 7], [1, 6], [1, 5], [0, 5]]\n"
          ]
        }
      ]
    },
    {
      "cell_type": "code",
      "source": [
        "# Menampilkan contoh jalur terpendek yang dibalik\n",
        "path = get_shortest_path(5, 2) # Pergi ke baris 5, kolom 3\n",
        "path.reverse()\n",
        "print(path)"
      ],
      "metadata": {
        "colab": {
          "base_uri": "https://localhost:8080/"
        },
        "id": "gNjOib7G8q3d",
        "outputId": "67126872-933b-40fe-cba1-3f47a5fcb8fb"
      },
      "execution_count": 8,
      "outputs": [
        {
          "output_type": "stream",
          "name": "stdout",
          "text": [
            "[[0, 5], [1, 5], [1, 6], [1, 7], [2, 7], [3, 7], [3, 6], [3, 5], [3, 4], [3, 3], [4, 3], [5, 3], [5, 2]]\n"
          ]
        }
      ]
    }
  ]
}